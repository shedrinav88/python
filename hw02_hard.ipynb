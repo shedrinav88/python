{
 "cells": [
  {
   "cell_type": "code",
   "execution_count": 5,
   "metadata": {},
   "outputs": [
    {
     "name": "stdout",
     "output_type": "stream",
     "text": [
      "Координата y заданной точки равна:  11111110.2121\n"
     ]
    }
   ],
   "source": [
    "# Задание-1: уравнение прямой вида y = kx + b задано в виде строки.\n",
    "# Определить координату y точки с заданной координатой x.\n",
    "\n",
    "equation = 'y = -12x + 11111140.2121'\n",
    "x = 2.5\n",
    "# вычислите и выведите y\n",
    "\n",
    "k = str(equation[equation.find('='):equation.find('x')])\n",
    "k = float(str(k[1:]))\n",
    "b = str(equation[equation.find('+'):])\n",
    "b = float(str(b[1:]))\n",
    "y = k*x + b\n",
    "print('Координата y заданной точки равна: ', y)"
   ]
  },
  {
   "cell_type": "code",
   "execution_count": 6,
   "metadata": {},
   "outputs": [
    {
     "name": "stdout",
     "output_type": "stream",
     "text": [
      "Введите дату в формате dd.mm.yyyy: 1.12.2000\n",
      "Неверный формат даты!\n",
      "Введите дату в формате dd.mm.yyyy: 01.18.2009\n",
      "Месяц введен неверно! Значение месяца должно состоять из 2 цифр и может принимать значение в диапазоне от 01 до 12!\n",
      "Введите дату в формате dd.mm.yyyy: 31.09.2006\n",
      "День введен неверно! Значение дня должно состоять из 2 цифр и в данном месяце может принимать значение в диапазоне от 01 до 30!\n",
      "Введите дату в формате dd.mm.yyyy: 31.01.1000\n",
      "Дата введена корректно!  31.01.1000\n"
     ]
    }
   ],
   "source": [
    "# Задание-2: Дата задана в виде строки формата 'dd.mm.yyyy'.\n",
    "# Проверить, корректно ли введена дата.\n",
    "# Условия корректности:\n",
    "# 1. День должен приводиться к целому числу в диапазоне от 1 до 30(31)\n",
    "#  (в зависимости от месяца, февраль не учитываем)\n",
    "# 2. Месяц должен приводиться к целому числу в диапазоне от 1 до 12\n",
    "# 3. Год должен приводиться к целому положительному числу в диапазоне от 1 до 9999\n",
    "# 4. Длина исходной строки для частей должна быть в соответствии с форматом \n",
    "#  (т.е. 2 символа для дня, 2 - для месяца, 4 - для года)\n",
    "\n",
    "# Пример корректной даты\n",
    "#date = '01.11.1985'\n",
    "\n",
    "# Примеры некорректных дат\n",
    "#date = '01.22.1001'\n",
    "#date = '1.12.1001'\n",
    "#date = '-2.10.3001' \n",
    "\n",
    "while True:\n",
    "    date = input('Введите дату в формате dd.mm.yyyy: ')\n",
    "    date_dd = str(date[:date.find('.')]) \n",
    "    board1 = date.find('.')\n",
    "    board2 = date.find('.', len(date_dd) + 1)\n",
    "    date_mm = str(date[(board1 + 1):board2])\n",
    "    date_yyyy = str(date[(board2 + 1):])\n",
    "    if (len(date_dd) == 2 and len(date_mm) == 2 and len (date_yyyy) == 4):\n",
    "        min_yyyy, max_yyyy = 1, 9999\n",
    "        if min_yyyy <= int(date_yyyy) <= max_yyyy:\n",
    "            min_mm, max_mm = 1, 12\n",
    "            if min_mm <= int(date_mm) <= max_mm:\n",
    "                date31_mm = ['01','03','05','07','08','10', '12']\n",
    "                if (date_mm in date31_mm):\n",
    "                    min_dd, max_dd = 1, 31\n",
    "                    if min_dd <= int(date_dd) <= max_dd:\n",
    "                        print('Дата введена корректно! ', date)\n",
    "                        break\n",
    "                    else:\n",
    "                        print('День введен неверно! Значение дня должно состоять из 2 цифр и в данном месяце '\n",
    "                             'может принимать значение в диапазоне от 01 до 31!')\n",
    "                else:   \n",
    "                    min_dd, max_dd = 1, 30\n",
    "                    if min_dd <= int(date_dd) <= max_dd:\n",
    "                        print('Дата введена корректно: ', date)\n",
    "                        break\n",
    "                    else:\n",
    "                        print('День введен неверно! Значение дня должно состоять из 2 цифр и в данном месяце '\n",
    "                             'может принимать значение в диапазоне от 01 до 30!')\n",
    "            else:\n",
    "                print('Месяц введен неверно! Значение месяца должно состоять из 2 цифр и может принимать значение '\n",
    "                  'в диапазоне от 01 до 12!')\n",
    "\n",
    "        else:\n",
    "            print('Год введен неверно! Значение года должно состоять из 4 цифр и может принимать значение '\n",
    "                  'в диапазоне от 0001 до 9999!')\n",
    "    else:\n",
    "        print('Неверный формат даты!')\n"
   ]
  },
  {
   "cell_type": "code",
   "execution_count": null,
   "metadata": {},
   "outputs": [],
   "source": []
  }
 ],
 "metadata": {
  "kernelspec": {
   "display_name": "Python 3",
   "language": "python",
   "name": "python3"
  },
  "language_info": {
   "codemirror_mode": {
    "name": "ipython",
    "version": 3
   },
   "file_extension": ".py",
   "mimetype": "text/x-python",
   "name": "python",
   "nbconvert_exporter": "python",
   "pygments_lexer": "ipython3",
   "version": "3.6.5"
  }
 },
 "nbformat": 4,
 "nbformat_minor": 2
}
