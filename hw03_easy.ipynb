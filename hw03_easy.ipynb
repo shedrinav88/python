{
 "cells": [
  {
   "cell_type": "code",
   "execution_count": 5,
   "metadata": {},
   "outputs": [
    {
     "name": "stdout",
     "output_type": "stream",
     "text": [
      "2.12346\n",
      "2.2\n",
      "3.0\n"
     ]
    }
   ],
   "source": [
    "# Задание-1:\n",
    "# Напишите функцию, округляющую полученное произвольное десятичное число\n",
    "# до кол-ва знаков (кол-во знаков передается вторым аргументом).\n",
    "# Округление должно происходить по математическим правилам (0.6 --> 1, 0.4 --> 0).\n",
    "# Для решения задачи не используйте встроенные функции и функции из модуля math.\n",
    "\n",
    "#print(my_round(2.1234567, 5))\n",
    "#print(my_round(2.1999967, 5))\n",
    "#print(my_round(2.9999967, 5))\n",
    "\n",
    "#    a = str(number.split('.'))\n",
    "\n",
    "def my_round(number, ndigits):\n",
    "    a = str(number).split('.')\n",
    "    rest = a[1][:ndigits]\n",
    "    if int(a[1][ndigits]) >= 5:\n",
    "        round_rest = str(int(rest) + 1)\n",
    "        if len(round_rest) > len(rest):\n",
    "            a[0] = str(int(a[0]) + 1)\n",
    "            result = float(a[0] + '.')\n",
    "        else:\n",
    "            result = float(a[0] + '.' + round_rest)\n",
    "    else:\n",
    "        result = float(a[0] + '.' + rest)        \n",
    "    return result\n",
    "\n",
    "print(my_round(2.1234567, 5))\n",
    "print(my_round(2.1999967, 5))\n",
    "print(my_round(2.9999967, 5))"
   ]
  },
  {
   "cell_type": "code",
   "execution_count": 4,
   "metadata": {},
   "outputs": [
    {
     "name": "stdout",
     "output_type": "stream",
     "text": [
      "Введите номер 123006\n",
      "Счастливый билет!\n"
     ]
    }
   ],
   "source": [
    "# Задание-2:\n",
    "# Дан шестизначный номер билета. Определить, является ли билет счастливым.\n",
    "# Решение реализовать в виде функции.\n",
    "# Билет считается счастливым, если сумма его первых и последних цифр равны.\n",
    "# !!!P.S.: функция не должна НИЧЕГО print'ить\n",
    "\n",
    "def lucky_ticket(ticket_number):\n",
    "    ticket_number = str(ticket_number)\n",
    "    part_one = ticket_number[:len(ticket_number)//2]\n",
    "    part_two = ticket_number[len(ticket_number)//2:]\n",
    "    int_part_one = [int(item) for item in part_one]\n",
    "    int_part_two = [int(item) for item in part_two]\n",
    "    sum_one = sum(int_part_one)\n",
    "    sum_two = sum(int_part_two)\n",
    "    if sum_one == sum_two:\n",
    "        return 'Счастливый билет!'\n",
    "    else:\n",
    "        return 'Этот билет не является счастливым!'\n",
    "\n",
    "ticket_number = input('Введите номер ')\n",
    "print(lucky_ticket(ticket_number))\n",
    "\n",
    "\n",
    "#print(lucky_ticket(123006))\n",
    "#print(lucky_ticket(12321))\n",
    "#print(lucky_ticket(436751))"
   ]
  },
  {
   "cell_type": "code",
   "execution_count": null,
   "metadata": {},
   "outputs": [],
   "source": []
  }
 ],
 "metadata": {
  "kernelspec": {
   "display_name": "Python 3",
   "language": "python",
   "name": "python3"
  },
  "language_info": {
   "codemirror_mode": {
    "name": "ipython",
    "version": 3
   },
   "file_extension": ".py",
   "mimetype": "text/x-python",
   "name": "python",
   "nbconvert_exporter": "python",
   "pygments_lexer": "ipython3",
   "version": "3.6.5"
  }
 },
 "nbformat": 4,
 "nbformat_minor": 2
}
