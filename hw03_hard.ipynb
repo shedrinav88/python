{
 "cells": [
  {
   "cell_type": "code",
   "execution_count": 1,
   "metadata": {},
   "outputs": [
    {
     "name": "stdout",
     "output_type": "stream",
     "text": [
      "Алексеев: 18857.14 руб.\n",
      "Бурин 47600.0 руб.\n",
      "Сидоров 15250.0 руб.\n",
      "Грибов 14750.0 руб.\n",
      "Иванов 25200.0 руб.\n",
      "Дурин 10000.0 руб.\n"
     ]
    }
   ],
   "source": [
    "# Дана ведомость расчета заработной платы (файл \"data/workers\").\n",
    "# Рассчитайте зарплату всех работников, зная что они получат полный оклад,\n",
    "# если отработают норму часов. Если же они отработали меньше нормы,\n",
    "# то их ЗП уменьшается пропорционально, а за заждый час переработки\n",
    "# они получают удвоенную ЗП, пропорциональную норме.\n",
    "# Кол-во часов, которые были отработаны, указаны в файле \"data/hours_of\"\n",
    "\n",
    "import os\n",
    "\n",
    "path1 = os.path.join('Desktop', 'hours_of.txt')\n",
    "f = open(path1, 'r', encoding='UTF-8')\n",
    "b = f.readlines()\n",
    "f.close()\n",
    "path2 = os.path.join('Desktop', 'workers.txt')\n",
    "g = open(path2, 'r', encoding='UTF-8')\n",
    "c = g.readlines()\n",
    "g.close()\n",
    "def clean(array):\n",
    "    t = []\n",
    "    for i in range(0, len(array)):\n",
    "        a = array[i].split(' ')\n",
    "        a = list(filter(len,a))\n",
    "        t.append(a)\n",
    "    return t\n",
    "k = clean(b)\n",
    "o = clean(c)\n",
    "def Fact_work(surname, array1):\n",
    "    for i in range(0, len(array1)):\n",
    "        for k in range(0, len(array1[i])-1):\n",
    "            if array1[i][k] == surname:\n",
    "                fact = array1[i][k+1]\n",
    "    return float(fact)\n",
    "def Norma(surname, array2):\n",
    "    for i in range(0, len(array2)):\n",
    "        for k in range(0, len(array2[i])-1):\n",
    "            if array2[i][k] == surname:\n",
    "                norma = array2[i][k+3]\n",
    "    return float(norma)    \n",
    "\n",
    "def Oklad(surname, array2):\n",
    "    for i in range(0, len(array2)):\n",
    "        for k in range(0, len(array2[i])-1):\n",
    "            if array2[i][k] == surname:\n",
    "                oklad = array2[i][k+1]\n",
    "    return float(oklad) \n",
    "\n",
    "def Zarplata(oklad, norma, fact):\n",
    "    if fact <= norma:\n",
    "        zarplata = oklad * (fact / norma)\n",
    "    else:\n",
    "        zarplata = oklad + (fact - norma) * (oklad / norma) * 2\n",
    "    return round(zarplata,2)\n",
    "\n",
    "Alekseev =  Zarplata(Oklad('Алексеев', o), Norma('Алексеев', o), Fact_work('Алексеев',k))\n",
    "Burin = Zarplata(Oklad('Бурин', o), Norma('Бурин', o), Fact_work('Бурин',k))\n",
    "Sidorov = Zarplata(Oklad('Сидоров', o), Norma('Сидоров', o), Fact_work('Сидоров',k))\n",
    "Gribov = Zarplata(Oklad('Грибов', o), Norma('Грибов', o), Fact_work('Грибов',k))\n",
    "Ivanov = Zarplata(Oklad('Иванов', o), Norma('Иванов', o), Fact_work('Иванов',k))\n",
    "Durin = Zarplata(Oklad('Дурин', o), Norma('Дурин', o), Fact_work('Дурин',k))\n",
    "\n",
    "print ('Алексеев:', Alekseev,'руб.')\n",
    "print ('Бурин', Burin,'руб.')\n",
    "print ('Сидоров', Sidorov,'руб.')\n",
    "print ('Грибов', Gribov,'руб.')\n",
    "print ('Иванов', Ivanov,'руб.')\n",
    "print ('Дурин', Durin,'руб.')"
   ]
  },
  {
   "cell_type": "code",
   "execution_count": null,
   "metadata": {},
   "outputs": [],
   "source": []
  }
 ],
 "metadata": {
  "kernelspec": {
   "display_name": "Python 3",
   "language": "python",
   "name": "python3"
  },
  "language_info": {
   "codemirror_mode": {
    "name": "ipython",
    "version": 3
   },
   "file_extension": ".py",
   "mimetype": "text/x-python",
   "name": "python",
   "nbconvert_exporter": "python",
   "pygments_lexer": "ipython3",
   "version": "3.6.5"
  }
 },
 "nbformat": 4,
 "nbformat_minor": 2
}
