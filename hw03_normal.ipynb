{
 "cells": [
  {
   "cell_type": "code",
   "execution_count": 2,
   "metadata": {},
   "outputs": [
    {
     "name": "stdout",
     "output_type": "stream",
     "text": [
      "[5, 8, 13, 21, 34, 55, 89, 144, 233, 377, 610]\n",
      "[8, 13, 21, 34, 55, 89, 144, 233, 377, 610, 987, 1597, 2584, 4181, 6765, 10946, 17711, 28657, 46368, 75025, 121393, 196418, 317811, 514229, 832040, 1346269, 2178309, 3524578, 5702887, 9227465, 14930352, 24157817, 39088169, 63245986, 102334155, 165580141, 267914296, 433494437, 701408733, 1134903170, 1836311903, 2971215073, 4807526976, 7778742049, 12586269025, 20365011074, 32951280099, 53316291173, 86267571272, 139583862445, 225851433717, 365435296162, 591286729879, 956722026041, 1548008755920, 2504730781961, 4052739537881, 6557470319842, 10610209857723, 17167680177565, 27777890035288, 44945570212853, 72723460248141, 117669030460994, 190392490709135, 308061521170129, 498454011879264, 806515533049393, 1304969544928657, 2111485077978050, 3416454622906707, 5527939700884757, 8944394323791464, 14472334024676221, 23416728348467685, 37889062373143906, 61305790721611591, 99194853094755497, 160500643816367088, 259695496911122585, 420196140727489673, 679891637638612258, 1100087778366101931, 1779979416004714189, 2880067194370816120, 4660046610375530309, 7540113804746346429, 12200160415121876738, 19740274219868223167, 31940434634990099905, 51680708854858323072, 83621143489848422977, 135301852344706746049, 218922995834555169026, 354224848179261915075]\n"
     ]
    }
   ],
   "source": [
    "# Задание-1:\n",
    "# Напишите функцию, возвращающую ряд Фибоначчи с n-элемента до m-элемента.\n",
    "# Первыми элементами ряда считать цифры 1 1\n",
    "\n",
    "def fibonacci(n, m):\n",
    "    a = [1, 1]\n",
    "    while len(a) < m:\n",
    "        i = a[len(a) - 2] + a[len(a) - 1]\n",
    "        a.append(i)\n",
    "    return a[(n-1):m]        \n",
    "print(fibonacci(5, 15))\n",
    "print(fibonacci(6, 28))"
   ]
  },
  {
   "cell_type": "code",
   "execution_count": 3,
   "metadata": {},
   "outputs": [
    {
     "data": {
      "text/plain": [
       "[-12, -11, -5, 0, 2, 2.5, 4, 4, 10, 20]"
      ]
     },
     "execution_count": 3,
     "metadata": {},
     "output_type": "execute_result"
    }
   ],
   "source": [
    "# Задача-2:\n",
    "# Напишите функцию, сортирующую принимаемый список по возрастанию.\n",
    "# Для сортировки используйте любой алгоритм (например пузырьковый).\n",
    "# Для решения данной задачи нельзя использовать встроенную функцию и метод sort()\n",
    "\n",
    "\n",
    "def sort_to_max(origin_list):\n",
    "    result = []\n",
    "    while len(origin_list) > 0:\n",
    "        i_min = origin_list[0]    \n",
    "        for i in origin_list:\n",
    "            if i < i_min:\n",
    "                i_min = i \n",
    "        result.append(i_min)\n",
    "        origin_list.remove(i_min)\n",
    "    return result\n",
    "\n",
    "sort_to_max([2, -5, 10, -12, 2.5, 20, -11, 4, 4, 0])"
   ]
  },
  {
   "cell_type": "code",
   "execution_count": 4,
   "metadata": {},
   "outputs": [
    {
     "name": "stdout",
     "output_type": "stream",
     "text": [
      "['not null', 'bla', '10']\n",
      "[10, 8, 14]\n"
     ]
    }
   ],
   "source": [
    "# Задача-3:\n",
    "# Напишите собственную реализацию стандартной функции filter.\n",
    "# Разумеется, внутри нельзя использовать саму функцию filter.\n",
    "\n",
    "def my_filter(condition, iterator):\n",
    "    copy = iterator[:]\n",
    "    for i in range(0, len(iterator) - 1):\n",
    "        if condition(iterator[i]) == False:\n",
    "            copy.remove(iterator[i])\n",
    "    return copy        \n",
    "\n",
    "print(list(my_filter(len, ['', 'not null', 'bla', '', '10'])))\n",
    "print(list(my_filter(lambda x: x > 5, [2, 10, -10, 8, 2, 0, 14])))"
   ]
  },
  {
   "cell_type": "code",
   "execution_count": 5,
   "metadata": {},
   "outputs": [
    {
     "name": "stdout",
     "output_type": "stream",
     "text": [
      "Введите через запятую координаты точки A1 0,0\n",
      "Введите через запятую координаты точки A2 0,10\n",
      "Введите через запятую координаты точки A3 8,10\n",
      "Введите через запятую координаты точки A4 8,0\n",
      "Заданные точки являются вершинами параллелограмма!\n"
     ]
    }
   ],
   "source": [
    "# Задача-4:\n",
    "# Даны четыре точки А1(х1, у1), А2(x2 ,у2), А3(x3 , у3), А4(х4, у4).\n",
    "# Определить, будут ли они вершинами параллелограмма.\n",
    "\n",
    "def coordinate(cor_list):\n",
    "    dot_coordinate = tuple([int(item) for item in cor_list])\n",
    "    return dot_coordinate\n",
    "def diagonal_coord(x, y):\n",
    "    x_diag = (x[0] + y[0]) / 2\n",
    "    y_diag = (x[1] + y[1]) / 2\n",
    "    return (x_diag, y_diag)\n",
    "    \n",
    "A1 = coordinate(list(input('Введите через запятую координаты точки A1 ').split(',')))\n",
    "A2 = coordinate(list(input('Введите через запятую координаты точки A2 ').split(',')))\n",
    "A3 = coordinate(list(input('Введите через запятую координаты точки A3 ').split(',')))\n",
    "A4 = coordinate (list(input('Введите через запятую координаты точки A4 ').split(',')))\n",
    "A1_A2 = diagonal_coord(A1, A2)\n",
    "A1_A3 = diagonal_coord(A1, A3)\n",
    "A1_A4 = diagonal_coord(A1, A4)\n",
    "A2_A3 = diagonal_coord(A2, A3)\n",
    "A2_A4 = diagonal_coord(A2, A4)\n",
    "A3_A4 = diagonal_coord(A3, A4)\n",
    "if A1_A2== A3_A4 or A1_A3 == A2_A4 or A1_A4 == A2_A3:\n",
    "    print('Заданные точки являются вершинами параллелограмма!')\n",
    "else:\n",
    "    print('Заданные точки НЕ являются вершинами параллелограмма!')"
   ]
  },
  {
   "cell_type": "code",
   "execution_count": null,
   "metadata": {},
   "outputs": [],
   "source": []
  }
 ],
 "metadata": {
  "kernelspec": {
   "display_name": "Python 3",
   "language": "python",
   "name": "python3"
  },
  "language_info": {
   "codemirror_mode": {
    "name": "ipython",
    "version": 3
   },
   "file_extension": ".py",
   "mimetype": "text/x-python",
   "name": "python",
   "nbconvert_exporter": "python",
   "pygments_lexer": "ipython3",
   "version": "3.6.5"
  }
 },
 "nbformat": 4,
 "nbformat_minor": 2
}
