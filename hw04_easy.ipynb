{
 "cells": [
  {
   "cell_type": "code",
   "execution_count": 1,
   "metadata": {},
   "outputs": [
    {
     "name": "stdout",
     "output_type": "stream",
     "text": [
      "[1, 4, 16, 64, 625, 256, 16, 0]\n"
     ]
    }
   ],
   "source": [
    "# Задание-1:\n",
    "# Дан список, заполненный произвольными целыми числами. \n",
    "# Получить новый список, элементы которого будут\n",
    "# квадратами элементов исходного списка\n",
    "# [1, 2, 4, 0] --> [1, 4, 16, 0]\n",
    "a = [i**2 for i in [1, 2, 4, 8, 25, -16, -4, 0]]\n",
    "print(a)"
   ]
  },
  {
   "cell_type": "code",
   "execution_count": 2,
   "metadata": {},
   "outputs": [
    {
     "name": "stdout",
     "output_type": "stream",
     "text": [
      "['apple', 'banana']\n"
     ]
    }
   ],
   "source": [
    "# Задание-2:\n",
    "# Даны два списка фруктов.\n",
    "# Получить список фруктов, присутствующих в обоих исходных списках.\n",
    "\n",
    "fruits_1 = ['apple', 'banana', 'apricot', 'peach', 'strawberry', 'lemon']\n",
    "fruits_2 = ['lime', 'apple', 'orange', 'cherry', 'banana', 'grapefruit', 'watermelon']\n",
    "a = [i for i in fruits_1 if i in fruits_2]\n",
    "print(a)\n",
    "\n"
   ]
  },
  {
   "cell_type": "code",
   "execution_count": 3,
   "metadata": {},
   "outputs": [
    {
     "data": {
      "text/plain": [
       "[3, 18, 15]"
      ]
     },
     "execution_count": 3,
     "metadata": {},
     "output_type": "execute_result"
    }
   ],
   "source": [
    "# Задание-3:\n",
    "# Дан список, заполненный произвольными числами.\n",
    "# Получить список из элементов исходного, удовлетворяющих следующим условиям:\n",
    "# + Элемент кратен 3\n",
    "# + Элемент положительный\n",
    "# + Элемент не кратен 4\n",
    "\n",
    "a = [i for i in [1, 3, -6, 12, 18, 4, 0, -12, 5, -15, 15] if i % 3 == 0 and i > 0 and i % 4 != 0 ]\n",
    "a"
   ]
  },
  {
   "cell_type": "code",
   "execution_count": null,
   "metadata": {},
   "outputs": [],
   "source": []
  }
 ],
 "metadata": {
  "kernelspec": {
   "display_name": "Python 3",
   "language": "python",
   "name": "python3"
  },
  "language_info": {
   "codemirror_mode": {
    "name": "ipython",
    "version": 3
   },
   "file_extension": ".py",
   "mimetype": "text/x-python",
   "name": "python",
   "nbconvert_exporter": "python",
   "pygments_lexer": "ipython3",
   "version": "3.6.5"
  }
 },
 "nbformat": 4,
 "nbformat_minor": 2
}
