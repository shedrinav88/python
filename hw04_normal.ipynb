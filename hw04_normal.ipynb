{
 "cells": [
  {
   "cell_type": "code",
   "execution_count": 1,
   "metadata": {},
   "outputs": [
    {
     "name": "stdout",
     "output_type": "stream",
     "text": [
      "['mt', 'm', 'mcq', 'iry', 'hh', 'xq', 'd', 'l', 's', 'kg', 'm', 's', 'v', 'fbmx', 'aysm', 'p', 'ujalp', 'z', 'fw', 'qwksr', 'eip', 'l', 'ecl', 'w', 'okt', 'lf', 'snawvj', 'hfgew', 'z', 'f', 't', 'yd', 'a', 'px', 'j', 'g', 'v', 'oumes', 'vj', 'os', 'fuh', 'u', 'w', 'l', 'dk', 'jf', 'qn', 'xoois', 'ux', 'hyj', 'a', 'wdo', 'nsll', 'ng', 'lmkp', 'lq', 'x', 'qqqg', 'd', 's', 'vqpp', 'fy', 'j', 'apz', 'rfinzzs', 't', 'clwbf', 'zytm', 'g', 'zxv', 'kd', 'a', 'fs', 'f', 'chg', 's', 'n', 'n', 'etek', 'u', 'lu', 'sdelz', 'g', 'zuwiimqk', 'py', 'z', 'y', 'k', 'kdy', 'v', 'jd', 'y', 'fk', 'a', 'bf', 'vz', 'r', 's', 'p', 'tdq', 'lt', 'qc', 'vl', 'z', 'o', 'n', 'w', 'kapx', 'qn', 'f', 'whch', 'd', 'b', 'u', 'b', 'rw', 'y', 'x', 'ctsz', 'j', 'nnda', 'kc', 'm', 'j', 'e', 'dev', 'h', 'h', 'qbj', 'u', 'r', 'yw', 'kmj', 'h', 'ofa', 'puespa', 's', 'qs', 'ex', 'q', 's', 'a', 'cgns', 's', 'xiihws', 'd', 'i', 'a', 'n', 'f', 't', 'h', 'qrvp', 'ii', 'c', 'r', 'k', 'p', 'flw', 'v', 'z', 'tm', 'lm', 'ndi', 'b', 'z', 'k', 'eu', 'kyj', 'si', 'sn', 'ti', 'trb', 'unur', 'g', 'i', 'j', 't', 'n', 'j', 'e', 'i', 'lxn', 'kqf', 'b', 'f', 'u', 'm', 'p', 'kqigx', 'kr', 'pp', 'e', 'xb', 'vq', 'mls', 'yzen', 'o', 'xy', 'vbnh', 'u', 'q', 'jvihu', 'sfn', 'fptv', 'lh', 'hy', 'wx', 'nq', 's', 'd', 'vnuy', 'he', 'p', 'e', 'o', 'i', 'a', 'i', 'gs', 'r', 'e', 'o', 'l', 'v', 'n', 'g', 'mys', 'e', 'n', 'zvd', 'yle', 'yln', 'f', 'j', 'ntltignb', 'oi', 'z', 'w', 'i', 'wycdl', 'fy', 'mk', 'q', 'w', 'rx', 'c']\n"
     ]
    }
   ],
   "source": [
    "# Задание-1:\n",
    "# Вывести символы в нижнем регистре, которые находятся вокруг\n",
    "# 1 или более символов в верхнем регистре.\n",
    "# Т.е. из строки \"mtMmEZUOmcq\" нужно получить ['mt', 'm', 'mcq']\n",
    "# Решить задачу двумя способами: с помощью re и без.\n",
    "import re\n",
    "\n",
    "\n",
    "line = 'mtMmEZUOmcqWiryMQhhTxqKdSTKCYEJlEZCsGAMkgAYEOmHBSQsSUHKvSfbmxULaysmNO'\\\n",
    "       'GIPHpEMujalpPLNzRWXfwHQqwksrFeipEUlTLeclMwAoktKlfUBJHPsnawvjPhfgewVzK'\\\n",
    "       'TUfSYtBydXaVIpxWjNKgXANvIoumesCSSvjEGRJosUfuhRRDUuTQwLlJJJDdkVjfSAHqn'\\\n",
    "       'LxooisBDWuxIhyjJaXDYwdoVPnsllMngNlmkpYOlqXEFIxPqqqgAWdJsOvqppOfyIVjXa'\\\n",
    "       'pzGOrfinzzsNMtBIOclwbfRzytmDgEFUzxvZGkdOaQYLVBfsGSAfJMchgBWAsGnBnWete'\\\n",
    "       'kUTVuPluKRMQsdelzBgLzuwiimqkFKpyQRzOUyHkXRkdyIEBvTjdByCfkVIAQaAbfCvzQ'\\\n",
    "       'WrMMsYpLtdqRltXPqcSMXJIvlBzKoQnSwPFkapxGqnZCVFfKRLUIGBLOwhchWCdJbRuXb'\\\n",
    "       'JrwTRNyAxDctszKjSnndaFkcBZmJZWjUeYMdevHhBJMBSShDqbjAuDGTTrSXZywYkmjCC'\\\n",
    "       'EUZShGofaFpuespaZWLFNIsOqsIRLexWqTXsOaScgnsUKsJxiihwsCdBViEQBHQaOnLfB'\\\n",
    "       'tQQShTYHFqrvpVFiiEFMcIFTrTkIBpGUflwTvAzMUtmSQQZGHlmQKJndiAXbIzVkGSeuT'\\\n",
    "       'SkyjIGsiWLALHUCsnQtiOtrbQOQunurZgHFiZjWtZCEXZCnZjLeMiFlxnPkqfJFbCfKCu'\\\n",
    "       'UJmGYJZPpRBFNLkqigxFkrRAppYRXeSCBxbGvqHmlsSZMWSVQyzenWoGxyGPvbnhWHuXB'\\\n",
    "       'qHFjvihuNGEEFsfnMXTfptvIOlhKhyYwxLnqOsBdGvnuyEZIheApQGOXWeXoLWiDQNJFa'\\\n",
    "       'XiUWgsKQrDOeZoNlZNRvHnLgCmysUeKnVJXPFIzvdDyleXylnKBfLCjLHntltignbQoiQ'\\\n",
    "       'zTYwZAiRwycdlHfyHNGmkNqSwXUrxGc'\n",
    "result = re.findall(r'[A-Z]?([a-z]+)', line)\n",
    "print(result)\n"
   ]
  },
  {
   "cell_type": "code",
   "execution_count": 2,
   "metadata": {},
   "outputs": [
    {
     "name": "stdout",
     "output_type": "stream",
     "text": [
      "['mt', 'm', 'mcq', 'iry', 'hh', 'xq', 'd', 'l', 's', 'kg', 'm', 's', 'v', 'fbmx', 'aysm', 'p', 'ujalp', 'z', 'fw', 'qwksr', 'eip', 'l', 'ecl', 'w', 'okt', 'lf', 'snawvj', 'hfgew', 'z', 'f', 't', 'yd', 'a', 'px', 'j', 'g', 'v', 'oumes', 'vj', 'os', 'fuh', 'u', 'w', 'l', 'dk', 'jf', 'qn', 'xoois', 'ux', 'hyj', 'a', 'wdo', 'nsll', 'ng', 'lmkp', 'lq', 'x', 'qqqg', 'd', 's', 'vqpp', 'fy', 'j', 'apz', 'rfinzzs', 't', 'clwbf', 'zytm', 'g', 'zxv', 'kd', 'a', 'fs', 'f', 'chg', 's', 'n', 'n', 'etek', 'u', 'lu', 'sdelz', 'g', 'zuwiimqk', 'py', 'z', 'y', 'k', 'kdy', 'v', 'jd', 'y', 'fk', 'a', 'bf', 'vz', 'r', 's', 'p', 'tdq', 'lt', 'qc', 'vl', 'z', 'o', 'n', 'w', 'kapx', 'qn', 'f', 'whch', 'd', 'b', 'u', 'b', 'rw', 'y', 'x', 'ctsz', 'j', 'nnda', 'kc', 'm', 'j', 'e', 'dev', 'h', 'h', 'qbj', 'u', 'r', 'yw', 'kmj', 'h', 'ofa', 'puespa', 's', 'qs', 'ex', 'q', 's', 'a', 'cgns', 's', 'xiihws', 'd', 'i', 'a', 'n', 'f', 't', 'h', 'qrvp', 'ii', 'c', 'r', 'k', 'p', 'flw', 'v', 'z', 'tm', 'lm', 'ndi', 'b', 'z', 'k', 'eu', 'kyj', 'si', 'sn', 'ti', 'trb', 'unur', 'g', 'i', 'j', 't', 'n', 'j', 'e', 'i', 'lxn', 'kqf', 'b', 'f', 'u', 'm', 'p', 'kqigx', 'kr', 'pp', 'e', 'xb', 'vq', 'mls', 'yzen', 'o', 'xy', 'vbnh', 'u', 'q', 'jvihu', 'sfn', 'fptv', 'lh', 'hy', 'wx', 'nq', 's', 'd', 'vnuy', 'he', 'p', 'e', 'o', 'i', 'a', 'i', 'gs', 'r', 'e', 'o', 'l', 'v', 'n', 'g', 'mys', 'e', 'n', 'zvd', 'yle', 'yln', 'f', 'j', 'ntltignb', 'oi', 'z', 'w', 'i', 'wycdl', 'fy', 'mk', 'q', 'w', 'rx', 'c']\n",
      "247\n"
     ]
    }
   ],
   "source": [
    "# Задание-1:\n",
    "# РЕШЕНИЕ БЕЗ re\n",
    "\n",
    "line = 'mtMmEZUOmcqWiryMQhhTxqKdSTKCYEJlEZCsGAMkgAYEOmHBSQsSUHKvSfbmxULaysmNO'\\\n",
    "       'GIPHpEMujalpPLNzRWXfwHQqwksrFeipEUlTLeclMwAoktKlfUBJHPsnawvjPhfgewVzK'\\\n",
    "       'TUfSYtBydXaVIpxWjNKgXANvIoumesCSSvjEGRJosUfuhRRDUuTQwLlJJJDdkVjfSAHqn'\\\n",
    "       'LxooisBDWuxIhyjJaXDYwdoVPnsllMngNlmkpYOlqXEFIxPqqqgAWdJsOvqppOfyIVjXa'\\\n",
    "       'pzGOrfinzzsNMtBIOclwbfRzytmDgEFUzxvZGkdOaQYLVBfsGSAfJMchgBWAsGnBnWete'\\\n",
    "       'kUTVuPluKRMQsdelzBgLzuwiimqkFKpyQRzOUyHkXRkdyIEBvTjdByCfkVIAQaAbfCvzQ'\\\n",
    "       'WrMMsYpLtdqRltXPqcSMXJIvlBzKoQnSwPFkapxGqnZCVFfKRLUIGBLOwhchWCdJbRuXb'\\\n",
    "       'JrwTRNyAxDctszKjSnndaFkcBZmJZWjUeYMdevHhBJMBSShDqbjAuDGTTrSXZywYkmjCC'\\\n",
    "       'EUZShGofaFpuespaZWLFNIsOqsIRLexWqTXsOaScgnsUKsJxiihwsCdBViEQBHQaOnLfB'\\\n",
    "       'tQQShTYHFqrvpVFiiEFMcIFTrTkIBpGUflwTvAzMUtmSQQZGHlmQKJndiAXbIzVkGSeuT'\\\n",
    "       'SkyjIGsiWLALHUCsnQtiOtrbQOQunurZgHFiZjWtZCEXZCnZjLeMiFlxnPkqfJFbCfKCu'\\\n",
    "       'UJmGYJZPpRBFNLkqigxFkrRAppYRXeSCBxbGvqHmlsSZMWSVQyzenWoGxyGPvbnhWHuXB'\\\n",
    "       'qHFjvihuNGEEFsfnMXTfptvIOlhKhyYwxLnqOsBdGvnuyEZIheApQGOXWeXoLWiDQNJFa'\\\n",
    "       'XiUWgsKQrDOeZoNlZNRvHnLgCmysUeKnVJXPFIzvdDyleXylnKBfLCjLHntltignbQoiQ'\\\n",
    "       'zTYwZAiRwycdlHfyHNGmkNqSwXUrxGc' \n",
    "\n",
    "a = []\n",
    "l = ''\n",
    "for i in range(len(line)):\n",
    "    if line[i].islower() == True and line[i-1].isupper() == True:\n",
    "        l = l + line[i]\n",
    "    elif line[i].islower() == True:\n",
    "        l = l + line[i]\n",
    "    elif line[i].isupper() == True:\n",
    "        a.append(l)\n",
    "        l = ''\n",
    "a.append(l)        \n",
    "a = list(filter(len, a))\n",
    "print(a)\n",
    "print(len(a))\n"
   ]
  },
  {
   "cell_type": "code",
   "execution_count": 3,
   "metadata": {},
   "outputs": [
    {
     "name": "stdout",
     "output_type": "stream",
     "text": [
      "['AY', 'NOGI', 'P', 'UBJ', 'C', 'EG', 'RR', 'S', 'B', 'XE', 'G', 'B', 'U', 'KR', 'I', 'VI', 'SMX', 'ZC', 'T', 'CCEU', 'ZWLF', 'I', 'E', 'SQQZ', 'Q', 'WLALH', 'Q', 'Y', 'SZMWS', 'NGE', 'M', 'E', 'H']\n"
     ]
    }
   ],
   "source": [
    "# Задание-2:\n",
    "# Вывести символы в верхнем регистре, слева от которых находятся\n",
    "# два символа в нижнем регистре, а справа - два символа в верхнем регистре.\n",
    "# Т.е. из строки \n",
    "# \"GAMkgAYEOmHBSQsSUHKvSfbmxULaysmNOGIPHpEMujalpPLNzRWXfwHQqwksrFeipEUlTLec\"\n",
    "# нужно получить список строк: ['AY', 'NOGI', 'P']\n",
    "# Решить задачу двумя способами: с помощью re и без.\n",
    "\n",
    "import re\n",
    "\n",
    "line_2 = 'mtMmEZUOmcqWiryMQhhTxqKdSTKCYEJlEZCsGAMkgAYEOmHBSQsSUHKvSfbmxULaysm'\\\n",
    "       'NOGIPHpEMujalpPLNzRWXfwHQqwksrFeipEUlTLeclMwAoktKlfUBJHPsnawvjPhfgewV'\\\n",
    "       'fzKTUfSYtBydXaVIpxWjNKgXANvIoumesCSSvjEGRJosUfuhRRDUuTQwLlJJJDdkVjfSA'\\\n",
    "       'HqnLxooisBDWuxIhyjJaXDYwdoVPnsllMngNlmkpYOlqXEFIxPqqqgAWdJsOvqppOfyIV'\\\n",
    "       'jXapzGOrfinzzsNMtBIOclwbfRzytmDgEFUzxvZGkdOaQYLVBfsGSAfJMchgBWAsGnBnW'\\\n",
    "       'etekUTVuPluKRMQsdelzBgLzuwiimqkFKpyQRzOUyHkXRkdyIEBvTjdByCfkVIAQaAbfC'\\\n",
    "       'vzQWrMMsYpLtdqRltXPqcSMXJIvlBzKoQnSwPFkapxGqnZCVFfKRLUIGBLOwhchWCdJbR'\\\n",
    "       'uXbJrwTRNyAxDctszKjSnndaFkcBZmJZWjUeYMdevHhBJMBSShDqbjAuDGTTrSXZywYkm'\\\n",
    "       'jCCEUZShGofaFpuespaZWLFNIsOqsIRLexWqTXsOaScgnsUKsJxiihwsCdBViEQBHQaOn'\\\n",
    "       'LfBtQQShTYHFqrvpVFiiEFMcIFTrTkIBpGUflwTvAzMUtmSQQZGHlmQKJndiAXbIzVkGS'\\\n",
    "       'euTSkyjIGsiWLALHUCsnQtiOtrbQOQunurZgHFiZjWtZCEXZCnZjLeMiFlxnPkqfJFbCf'\\\n",
    "       'KCuUJmGYJZPpRBFNLkqigxFkrRAppYRXeSCBxbGvqHmlsSZMWSVQyzenWoGxyGPvbnhWH'\\\n",
    "       'uXBqHFjvihuNGEEFsfnMXTfptvIOlhKhyYwxLnqOsBdGvnuyEZIheApQGOXWeXoLWiDQN'\\\n",
    "       'JFaXiUWgsKQrDOeZoNlZNRvHnLgCmysUeKnVJXPFIzvdDyleXylnKBfLCjLHntltignbQ'\\\n",
    "       'oiQzTYwZAiRwycdlHfyHNGmkNqSwXUrxGC'\n",
    "\n",
    "result = re.findall(r'[a-z]{2}([A-Z]+)[A-Z]{2}', line)\n",
    "print(result)\n",
    "\n"
   ]
  },
  {
   "cell_type": "code",
   "execution_count": 6,
   "metadata": {},
   "outputs": [
    {
     "name": "stdout",
     "output_type": "stream",
     "text": [
      "['AY', 'NOGI', 'P', 'UBJ', 'K', 'C', 'EG', 'RR', 'S', 'B', 'XE', 'G', 'B', 'U', 'KR', 'I', 'VI', 'SMX', 'ZC', 'T', 'CCEU', 'ZWLF', 'I', 'E', 'SQQZ', 'Q', 'WLALH', 'Q', 'Y', 'SZMWS', 'NGE', 'M', 'E', 'H']\n"
     ]
    }
   ],
   "source": [
    "# Задание-2:\n",
    "# РЕШЕНИЕ БЕЗ re\n",
    "\n",
    "\n",
    "line_2 = 'mtMmEZUOmcqWiryMQhhTxqKdSTKCYEJlEZCsGAMkgAYEOmHBSQsSUHKvSfbmxULaysm'\\\n",
    "       'NOGIPHpEMujalpPLNzRWXfwHQqwksrFeipEUlTLeclMwAoktKlfUBJHPsnawvjPhfgewV'\\\n",
    "       'fzKTUfSYtBydXaVIpxWjNKgXANvIoumesCSSvjEGRJosUfuhRRDUuTQwLlJJJDdkVjfSA'\\\n",
    "       'HqnLxooisBDWuxIhyjJaXDYwdoVPnsllMngNlmkpYOlqXEFIxPqqqgAWdJsOvqppOfyIV'\\\n",
    "       'jXapzGOrfinzzsNMtBIOclwbfRzytmDgEFUzxvZGkdOaQYLVBfsGSAfJMchgBWAsGnBnW'\\\n",
    "       'etekUTVuPluKRMQsdelzBgLzuwiimqkFKpyQRzOUyHkXRkdyIEBvTjdByCfkVIAQaAbfC'\\\n",
    "       'vzQWrMMsYpLtdqRltXPqcSMXJIvlBzKoQnSwPFkapxGqnZCVFfKRLUIGBLOwhchWCdJbR'\\\n",
    "       'uXbJrwTRNyAxDctszKjSnndaFkcBZmJZWjUeYMdevHhBJMBSShDqbjAuDGTTrSXZywYkm'\\\n",
    "       'jCCEUZShGofaFpuespaZWLFNIsOqsIRLexWqTXsOaScgnsUKsJxiihwsCdBViEQBHQaOn'\\\n",
    "       'LfBtQQShTYHFqrvpVFiiEFMcIFTrTkIBpGUflwTvAzMUtmSQQZGHlmQKJndiAXbIzVkGS'\\\n",
    "       'euTSkyjIGsiWLALHUCsnQtiOtrbQOQunurZgHFiZjWtZCEXZCnZjLeMiFlxnPkqfJFbCf'\\\n",
    "       'KCuUJmGYJZPpRBFNLkqigxFkrRAppYRXeSCBxbGvqHmlsSZMWSVQyzenWoGxyGPvbnhWH'\\\n",
    "       'uXBqHFjvihuNGEEFsfnMXTfptvIOlhKhyYwxLnqOsBdGvnuyEZIheApQGOXWeXoLWiDQN'\\\n",
    "       'JFaXiUWgsKQrDOeZoNlZNRvHnLgCmysUeKnVJXPFIzvdDyleXylnKBfLCjLHntltignbQ'\\\n",
    "       'oiQzTYwZAiRwycdlHfyHNGmkNqSwXUrxGC'\n",
    "\n",
    "a = []\n",
    "l = ''\n",
    "for i in range(len(line_2)):\n",
    "    if line_2[i].isupper() == True and line_2[i-1].islower() == True and line_2[i-2].islower() == True:\n",
    "        for k in range(i+2, len(line_2)):\n",
    "            if line_2[k-2].isupper() == True and line_2[k-1].isupper() == True and line_2[k].isupper() == True:\n",
    "                l = l + line_2[k-2]\n",
    "                \n",
    "            else:\n",
    "                a.append(l)\n",
    "                break\n",
    "        l = ''\n",
    "    else:\n",
    "        continue\n",
    "a = list(filter(len, a))\n",
    "print(a)\n"
   ]
  },
  {
   "cell_type": "code",
   "execution_count": 9,
   "metadata": {},
   "outputs": [
    {
     "name": "stdout",
     "output_type": "stream",
     "text": [
      "['7909480287402724491124922814155045072091973576375451716008838504791982205772963674186536899485315310477299822471307346353028437169774312022755764021744895196901821383932866127094494365472062903286252868309882188427622961122981441069074675408637438273570323747232207907387008943906678813940434389238081011697466542819919135156618555936937346546131010675414040325841261207621148928882620924441867367223520714543799510948802465870102464510061216312191243826745804399669594134161835632178010258346304270729889962344003804799962450155898302846268672748138339884503762907958375622481965534439662322367985716445062670538445331656956434008175315712924204618915438586670190152050413884189400737964115287476034470031470114730927801312899438611347608403519262624045691488634719252597080578145629426703578939575656945813606643405213332143567160188354160420504509975303272617340136508035436323335695507977273491891973981793032426630143112087927469891926599528093006555485636810481059397500541815085752615328872194056225943467395965898286314180792502266364665084588603183467741922010196081194732231759835651773602889658813604837247606472310315133132182632650553436348702984092433430145478834854794396197496205620046431014113830482024548467800193824671719192766431903211335208059900729920994665347381899614130896085715777957550216611800102669840910897645161133065750769446340235798911156025958712264290966444734559183662847767715953364483098982974495960019982022767965308329317626856810514195403669561358707807524789471486529241415672699549618948172947927063416031636501529357185332701258567818268132554724535216053331223417783348197582660700560199975386242516048475018832184020308390598915249050676365659814472214314907734400309840363918455255823595236900010373814648777095657174802645099710092357132126056437512801264626077077746873974262109489893403007066515465942936958099357080005962620366618428455699015618301340346378546615979574161764029571450885421816870837185161015670973946767642408661024147048973215527936332984904570051110480843374199853798359644695949474872520782068403072832337070039430883601326319965200733968283279807065521989944172224288862294549250204187847213607674040479289639865114798199701443074553955723339963464426696379968608881276976970877042337552718708834660096447073794046737320754387883847372727387095391070960758779617815900284662550655451829019613158832219563912110518246592984345231766224893838568226876481630763854913462793739683287089698925165533675585033751794080343441381755774']\n",
      "Максимальная длина последовательности из одинаковых цифр: 3\n",
      "Последовательность цифр: 555\n",
      "Последовательность цифр: 888\n",
      "Последовательность цифр: 444\n",
      "Последовательность цифр: 999\n",
      "Последовательность цифр: 333\n",
      "Последовательность цифр: 333\n",
      "Последовательность цифр: 555\n",
      "Последовательность цифр: 777\n",
      "Последовательность цифр: 111\n",
      "Последовательность цифр: 444\n",
      "Последовательность цифр: 333\n",
      "Последовательность цифр: 999\n",
      "Последовательность цифр: 000\n",
      "Последовательность цифр: 777\n",
      "Последовательность цифр: 777\n",
      "Последовательность цифр: 000\n",
      "Последовательность цифр: 666\n",
      "Последовательность цифр: 111\n",
      "Последовательность цифр: 222\n",
      "Последовательность цифр: 888\n",
      "Последовательность цифр: 333\n",
      "Последовательность цифр: 888\n"
     ]
    }
   ],
   "source": [
    "# Задание-3:\n",
    "# Напишите скрипт, заполняющий указанный файл (самостоятельно задайте имя файла)\n",
    "# произвольными целыми цифрами, в результате в файле должно быть\n",
    "# 2500-значное произвольное число.\n",
    "# Найдите и выведите самую длинную последовательность одинаковых цифр\n",
    "# в вышезаполненном файле.\n",
    "\n",
    "import os\n",
    "import random\n",
    "import re\n",
    "\n",
    "path = os.path.join('Desktop', 'numbers.txt')\n",
    "with open(path, 'w', encoding='UTF-8') as f:\n",
    "    for _ in range(2500):\n",
    "         f.write(str(random.randint(0,9)))\n",
    "with open(path, 'r', encoding='UTF-8') as f:\n",
    "    a = str(f.readlines())\n",
    "print(a)\n",
    "result =[]\n",
    "lmax = 1\n",
    "l = 1\n",
    "for i in range(2500):\n",
    "    if a[i] == a[i-1]:\n",
    "        l += 1\n",
    "    else:\n",
    "        if l > lmax:\n",
    "            lmax = l\n",
    "        l = 1\n",
    "print('Максимальная длина последовательности из одинаковых цифр:', lmax)\n",
    "\n",
    "l = 1\n",
    "for i in range (2500):\n",
    "    if a[i] == a[i-1]:\n",
    "        l += 1\n",
    "    else:\n",
    "        if l == lmax:\n",
    "            print('Последовательность цифр:', a[(i-l):i])            \n",
    "        l = 1"
   ]
  },
  {
   "cell_type": "code",
   "execution_count": null,
   "metadata": {},
   "outputs": [],
   "source": []
  },
  {
   "cell_type": "code",
   "execution_count": null,
   "metadata": {},
   "outputs": [],
   "source": []
  }
 ],
 "metadata": {
  "kernelspec": {
   "display_name": "Python 3",
   "language": "python",
   "name": "python3"
  },
  "language_info": {
   "codemirror_mode": {
    "name": "ipython",
    "version": 3
   },
   "file_extension": ".py",
   "mimetype": "text/x-python",
   "name": "python",
   "nbconvert_exporter": "python",
   "pygments_lexer": "ipython3",
   "version": "3.6.5"
  }
 },
 "nbformat": 4,
 "nbformat_minor": 2
}
