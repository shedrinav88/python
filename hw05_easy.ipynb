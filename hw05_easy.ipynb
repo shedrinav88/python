{
 "cells": [
  {
   "cell_type": "code",
   "execution_count": 2,
   "metadata": {},
   "outputs": [],
   "source": [
    "# Задача-1:\n",
    "# Напишите скрипт, создающий директории dir_1 - dir_9 в папке,\n",
    "# из которой запущен данный скрипт.\n",
    "import os\n",
    "\n",
    "dir_name = ['dir_1', 'dir_2', 'dir_3', 'dir_4', 'dir_5', 'dir_6', 'dir_7', 'dir_8', 'dir_9']\n",
    "for i in range(9):\n",
    "    dir_path = os.path.join(os.getcwd(), dir_name [i])\n",
    "    os.mkdir(dir_path) "
   ]
  },
  {
   "cell_type": "code",
   "execution_count": 3,
   "metadata": {},
   "outputs": [],
   "source": [
    "# И второй скрипт, удаляющий эти папки.\n",
    "for i in range(9):\n",
    "    dir_path = os.path.join(os.getcwd(), dir_name [i])\n",
    "    os.rmdir(dir_path)"
   ]
  },
  {
   "cell_type": "code",
   "execution_count": 4,
   "metadata": {},
   "outputs": [
    {
     "name": "stdout",
     "output_type": "stream",
     "text": [
      ".ipynb_checkpoints\n",
      "Dir 1\n",
      "Dir2\n",
      "Direction\n",
      "horecaaahaa\n",
      "smartgit-win-18_1_4\n",
      "«Почта Банк» - Интернет банк_files\n"
     ]
    }
   ],
   "source": [
    "# Задача-2:\n",
    "# Напишите скрипт, отображающий папки текущей директории.\n",
    "\n",
    "path = os.listdir()\n",
    "for i in path:\n",
    "    if os.path.isdir(i):\n",
    "        print(i)\n"
   ]
  },
  {
   "cell_type": "code",
   "execution_count": null,
   "metadata": {},
   "outputs": [],
   "source": [
    "# Задача-3:\n",
    "# Напишите скрипт, создающий копию файла, из которого запущен данный скрипт.\n",
    "import sys\n",
    "from shutil import copyfile\n",
    "dir_name = sys.argv[0]\n",
    "dir_path = os.path.join(os.getcwd(), dir_name)\n",
    "newfile = dir_name + '.copy'   \n",
    "copyfile(dir_path, newfile"
   ]
  }
 ],
 "metadata": {
  "kernelspec": {
   "display_name": "Python 3",
   "language": "python",
   "name": "python3"
  },
  "language_info": {
   "codemirror_mode": {
    "name": "ipython",
    "version": 3
   },
   "file_extension": ".py",
   "mimetype": "text/x-python",
   "name": "python",
   "nbconvert_exporter": "python",
   "pygments_lexer": "ipython3",
   "version": "3.6.5"
  }
 },
 "nbformat": 4,
 "nbformat_minor": 2
}
