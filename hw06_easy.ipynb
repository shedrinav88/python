{
 "cells": [
  {
   "cell_type": "code",
   "execution_count": 11,
   "metadata": {},
   "outputs": [
    {
     "name": "stdout",
     "output_type": "stream",
     "text": [
      "Стороны треугольника равны: 10.44, 9.43 и 15.81\n",
      "Площадь треугольника составляет: 47.47\n",
      "Периметр треугольника равен: 35.68\n",
      "Высоты треугольника равны: к 1-й стороне 9.09, ко второй стороне 10.07, к третьей -  6.01\n"
     ]
    }
   ],
   "source": [
    "# Задача-1: Написать класс для фигуры-треугольника, заданного координатами трех точек.\n",
    "# Определить методы, позволяющие вычислить: площадь, высоту и периметр фигуры.\n",
    "from math import sqrt\n",
    "\n",
    "class Rectangle:\n",
    "    def __init__(self, coordinate1, coordinate2, coordinate3):\n",
    "        self.coordinate1 = coordinate1\n",
    "        self.coordinate2 = coordinate2\n",
    "        self.coordinate3 = coordinate3\n",
    "    def sides(self): \n",
    "        side1 = round(sqrt((self.coordinate1[0] - self.coordinate2[0])**2 + (self.coordinate1[1] - self.coordinate2[1])**2) ,2) \n",
    "        side2 = round(sqrt((self.coordinate2[0] - self.coordinate3[0])**2 + (self.coordinate2[1] - self.coordinate3[1])**2), 2) \n",
    "        side3 = round(sqrt((self.coordinate1[0] - self.coordinate3[0])**2 + (self.coordinate1[1] - self.coordinate3[1])**2), 2)\n",
    "        return [side1, side2, side3]\n",
    "    def perimetr(self):\n",
    "        perim = self.sides()[0] + self.sides()[1] + self.sides()[2]\n",
    "        return perim\n",
    "    def rec_square(self):\n",
    "        p = self.perimetr() / 2 \n",
    "        rec_sq = round(sqrt(p*(p - self.sides()[0])*(p - self.sides()[1])*(p - self.sides()[2])), 2)\n",
    "        return rec_sq\n",
    "    def height(self):\n",
    "        h_side1 = round(2 * (self.rec_square() / self.sides()[0]), 2)\n",
    "        h_side2 = round(2 * (self.rec_square() / self.sides()[1]), 2)\n",
    "        h_side3 = round(2 * (self.rec_square() / self.sides()[2]), 2)\n",
    "        return [h_side1, h_side2, h_side3]\n",
    "\n",
    "a = Rectangle((0, 5), (10, 2), (15, 10))\n",
    "print('Стороны треугольника равны: {}, {} и {}'.format(a.sides()[0], a.sides()[1], a.sides()[2]))\n",
    "print('Площадь треугольника составляет:', a.rec_square())\n",
    "print('Периметр треугольника равен:', a.perimetr())\n",
    "print('Высоты треугольника равны: к 1-й стороне {}, ко второй стороне {}, к третьей -  {}'.format(a.height()[0], a.height()[1], a.height()[2]))"
   ]
  },
  {
   "cell_type": "code",
   "execution_count": 17,
   "metadata": {},
   "outputs": [
    {
     "name": "stdout",
     "output_type": "stream",
     "text": [
      "Стороны равнобедренной трапеции равны: [8.25, 8.0, 8.25, 12.0]\n",
      "Площадь равнобедренной трапеции: 80.04\n",
      "Периметр равнобедренной трапеции равен: 36.5\n"
     ]
    }
   ],
   "source": [
    "# Задача-2: Написать Класс \"Равнобочная трапеция\", заданной координатами 4-х точек.\n",
    "# Предусмотреть в классе методы:\n",
    "# проверка, является ли фигура равнобочной трапецией;\n",
    "# вычисления: длины сторон, периметр, площадь.\n",
    "\n",
    "class Isos_trap:\n",
    "    def __init__(self, coordinate1, coordinate2, coordinate3, coordinate4):\n",
    "        self.coordinate1 = coordinate1\n",
    "        self.coordinate2 = coordinate2\n",
    "        self.coordinate3 = coordinate3\n",
    "        self.coordinate4 = coordinate4\n",
    "    def check(self):\n",
    "        from math import sqrt\n",
    "        diag1 = round(sqrt((self.coordinate1[0] - self.coordinate3[0])**2 + (self.coordinate1[1] - self.coordinate3[1])**2) ,2)\n",
    "        diag2 = round(sqrt((self.coordinate2[0] - self.coordinate4[0])**2 + (self.coordinate2[1] - self.coordinate4[1])**2), 2)\n",
    "        if diag1 == diag2:\n",
    "            return True\n",
    "        else:\n",
    "            return False\n",
    "    def sides(self):\n",
    "        if self.check():\n",
    "            side1 = round(sqrt((self.coordinate1[0] - self.coordinate2[0])**2 + (self.coordinate1[1] - self.coordinate2[1])**2) ,2) \n",
    "            side2 = round(sqrt((self.coordinate2[0] - self.coordinate3[0])**2 + (self.coordinate2[1] - self.coordinate3[1])**2), 2) \n",
    "            side3 = round(sqrt((self.coordinate3[0] - self.coordinate4[0])**2 + (self.coordinate3[1] - self.coordinate4[1])**2), 2)\n",
    "            side4 = round(sqrt((self.coordinate1[0] - self.coordinate4[0])**2 + (self.coordinate1[1] - self.coordinate4[1])**2), 2)\n",
    "            return [side1, side2, side3, side4]\n",
    "        else:\n",
    "            return 'Данная трапеция не является равнобедренной!'\n",
    "    def perimetr(self):\n",
    "        if self.check():\n",
    "            perim = sum(self.sides())\n",
    "            return perim\n",
    "        else:\n",
    "            return 'Данная трапеция не является равнобедренной!'\n",
    "    def trap_square(self):\n",
    "        if self.check():\n",
    "            trap_sq = round(((self.sides()[1] + self.sides()[3])/2) * sqrt(self.sides()[2]**2 - (((self.sides()[1] - self.sides()[3])**2) / 4)), 2)\n",
    "            return trap_sq\n",
    "        else:\n",
    "            return 'Данная трапеция не является равнобедренной!'\n",
    "  \n",
    "a = Isos_trap((0, 0), (2, 8), (10, 8), (12, 0))\n",
    "\n",
    "print('Стороны равнобедренной трапеции равны:', a.sides())\n",
    "print('Площадь равнобедренной трапеции:', a.trap_square())\n",
    "print('Периметр равнобедренной трапеции равен:', a.perimetr())"
   ]
  },
  {
   "cell_type": "code",
   "execution_count": null,
   "metadata": {},
   "outputs": [],
   "source": []
  },
  {
   "cell_type": "code",
   "execution_count": null,
   "metadata": {},
   "outputs": [],
   "source": []
  }
 ],
 "metadata": {
  "kernelspec": {
   "display_name": "Python 3",
   "language": "python",
   "name": "python3"
  },
  "language_info": {
   "codemirror_mode": {
    "name": "ipython",
    "version": 3
   },
   "file_extension": ".py",
   "mimetype": "text/x-python",
   "name": "python",
   "nbconvert_exporter": "python",
   "pygments_lexer": "ipython3",
   "version": "3.6.5"
  }
 },
 "nbformat": 4,
 "nbformat_minor": 2
}
