{
 "cells": [
  {
   "cell_type": "code",
   "execution_count": 1,
   "metadata": {},
   "outputs": [
    {
     "name": "stdout",
     "output_type": "stream",
     "text": [
      "Алексеев Петр - 18857.14 руб.\n",
      "Иванов Василий - 25200.0 руб.\n",
      "Бурин Матвей - 47600.0 руб.\n",
      "Сидоров Василий - 15250.0 руб.\n",
      "Дурин Петр - 10000.0 руб.\n",
      "Грибов Альберт - 14750.0 руб.\n"
     ]
    }
   ],
   "source": [
    "# Задание-1: Решите задачу (дублированную ниже):\n",
    "\n",
    "# Дана ведомость расчета заработной платы (файл \"data/workers\").\n",
    "# Рассчитайте зарплату всех работников, зная что они получат полный оклад,\n",
    "# если отработают норму часов. Если же они отработали меньше нормы,\n",
    "# то их ЗП уменьшается пропорционально, а за заждый час переработки они получают\n",
    "# удвоенную ЗП, пропорциональную норме.\n",
    "# Кол-во часов, которые были отработаны, указаны в файле \"data/hours_of\"\n",
    "\n",
    "# С использованием классов.\n",
    "# Реализуйте классы сотрудников так, чтобы на вход функции-конструктора\n",
    "# каждый работник получал строку из файла\n",
    "\n",
    "class Worker:\n",
    "    def __init__(self, name, surname, position, salary, plan_hours, fact_hours ):\n",
    "        self.name = name\n",
    "        self.surname = surname\n",
    "        self.position = position\n",
    "        self.salary = salary\n",
    "        self.plan_hours = plan_hours\n",
    "        self.fact_hours = fact_hours\n",
    "    def Zarplata(self):\n",
    "        if self.fact_hours <= self.plan_hours:\n",
    "            zarplata = self.salary * (self.fact_hours / self.plan_hours)\n",
    "        else:\n",
    "            zarplata = self.salary + (self.fact_hours - self.plan_hours) * (self.salary / self.plan_hours) * 2\n",
    "        return '{} {} - {} руб.'.format(self.surname, self.name, round(zarplata, 2))\n",
    "        \n",
    "import os\n",
    "\n",
    "path1 = os.path.join('C:\\\\Users\\\\admin\\\\Desktop', 'workers.txt')\n",
    "with open(path1, 'r', encoding = 'UTF-8') as f:\n",
    "    b = f.readlines()\n",
    "lines = []\n",
    "for k in b:\n",
    "    line = list(filter(len,k.split(' ')))\n",
    "    lines.append(line)\n",
    "del lines[0]\n",
    "path2 = os.path.join('C:\\\\Users\\\\admin\\\\Desktop', 'hours_of.txt')\n",
    "with open(path2, 'r', encoding = 'UTF-8') as m:\n",
    "    g = m.readlines()\n",
    "h = []\n",
    "for i in g:\n",
    "    g_line = list(filter(len, i.split(' ')))\n",
    "    h.append(g_line)\n",
    "del h[0]\n",
    "for i in lines:\n",
    "    for k in h:      \n",
    "        if (i[0] + i[1]) == (k[0] + k[1]):\n",
    "            i.append(k[2])           \n",
    "workers = []\n",
    "for i in range(len(lines)):\n",
    "        worker = Worker(lines[i][0], lines[i][1], lines[i][3], float(lines[i][2]), float(lines[i][4]), float(lines[i][5]))\n",
    "        workers.append(worker)\n",
    "for i in workers:\n",
    "    print(i.Zarplata())"
   ]
  },
  {
   "cell_type": "code",
   "execution_count": null,
   "metadata": {},
   "outputs": [],
   "source": []
  }
 ],
 "metadata": {
  "kernelspec": {
   "display_name": "Python 3",
   "language": "python",
   "name": "python3"
  },
  "language_info": {
   "codemirror_mode": {
    "name": "ipython",
    "version": 3
   },
   "file_extension": ".py",
   "mimetype": "text/x-python",
   "name": "python",
   "nbconvert_exporter": "python",
   "pygments_lexer": "ipython3",
   "version": "3.6.5"
  }
 },
 "nbformat": 4,
 "nbformat_minor": 2
}
