{
 "cells": [
  {
   "cell_type": "code",
   "execution_count": 14,
   "metadata": {},
   "outputs": [
    {
     "name": "stdout",
     "output_type": "stream",
     "text": [
      "Введите название города, в котором Вы хотите узнать погоду (формат ввода: Hurzuf): Krasnodar\n",
      "Подождите. Запрашиваю данные о погоде в городе:  Krasnodar\n",
      "id_города: 538560 Город: Kursk Дата: 2018-08-19 Температура: 25 id_погоды: 800\n",
      "id_города: 542420 Город: Krasnodar Дата: 2018-08-19 Температура: 28 id_погоды: 800\n",
      "id_города: 703448 Город: Kiev Дата: 2018-08-19 Температура: 25.06 id_погоды: 800\n",
      "id_города: 2013348 Город: Vladivostok Дата: 2018-08-19 Температура: 18 id_погоды: 800\n"
     ]
    }
   ],
   "source": [
    "import json\n",
    "from grab import Grab\n",
    "import os\n",
    "import sqlite3\n",
    "import datetime\n",
    "\n",
    "# Создаем список всех городов\n",
    "with open('C:\\\\Users\\\\admin\\\\Downloads\\\\city.list.json\\\\city.list.json', 'r', encoding = 'UTF-8') as f:\n",
    "    read_data = json.load(f)\n",
    "city_list = []\n",
    "for i in read_data:\n",
    "    city_list.append(i['name'])\n",
    "city = set(filter(len, city_list))\n",
    "\n",
    "# Проверяем: имеется ли уже база данных или нет. Если нет - создаем.\n",
    "if os.path.isfile('weathetoday10.db'):\n",
    "    db_filename = 'weathetoday10.db'\n",
    "else:\n",
    "    db_filename = 'weathetoday10.db'\n",
    "    conn = sqlite3.connect(db_filename)\n",
    "    conn.close()\n",
    "    with sqlite3.connect(db_filename) as conn:\n",
    "        conn.execute(\"\"\"\n",
    "            create table project (\n",
    "                id_города           INTEGER PRIMARY KEY,\n",
    "                Город               VARCHAR(255),\n",
    "                Дата                DATE,\n",
    "                Температура         INTEGER,\n",
    "                id_погоды           INTEGER  \n",
    "            );\n",
    "            \"\"\")\n",
    "\n",
    "# Запрос города. Если он есть в базе, запрашиваем на openweathermap данные и добавляем в локальную базу данных\n",
    "answer = input('Введите название города, в котором Вы хотите узнать погоду (формат ввода: Hurzuf): ')\n",
    "if answer in city:\n",
    "    print('Подождите. Запрашиваю данные о погоде в городе: ', answer)\n",
    "    with open('C:\\\\Users\\\\admin\\\\Downloads\\\\city.list.json\\\\city.list.json', 'r', encoding = 'UTF-8') as n:\n",
    "        read_data = json.load(n)\n",
    "    for i in read_data:\n",
    "        if i['name'] == answer:\n",
    "            g = Grab()\n",
    "            g.setup(url = 'http://api.openweathermap.org/data/2.5/weather?id='+str(i['id'])+'&appid=ecbb6bb1b315dd3a3af9468dc6060163', log_file ='pogoda1.json')\n",
    "            g.request()\n",
    "            with open('C:\\\\Users\\\\admin\\\\pogoda1.json', 'r', encoding = 'UTF-8') as n:\n",
    "                read_data1 = json.load(n)\n",
    "            t = Grab()\n",
    "            t.setup(url = 'http://api.openweathermap.org/data/2.5/weather?id='+str(i['id'])+'&units=metric&appid=ecbb6bb1b315dd3a3af9468dc6060163', log_file ='tempra1.json')\n",
    "            t.request()\n",
    "            with open('C:\\\\Users\\\\admin\\\\tempra1.json', 'r', encoding = 'UTF-8') as k:\n",
    "                read_data2 = json.load(k)\n",
    "            with sqlite3.connect(db_filename) as conn:\n",
    "                conn.execute(\"\"\"\n",
    "                    insert or replace into project (id_города, Город, Дата, Температура,id_погоды) VALUES (?,?,?,?,?)\"\"\", (\n",
    "                        read_data1['id'], \n",
    "                        read_data1['name'], \n",
    "                        datetime.date.today(),\n",
    "                        read_data2['main']['temp'],\n",
    "                        read_data2['weather'][0]['id']\n",
    "                      )\n",
    "                )\n",
    "            with sqlite3.connect(db_filename) as conn:\n",
    "                conn.row_factory = sqlite3.Row\n",
    "                cur = conn.cursor()\n",
    "                cur.execute(\"select * from project\")\n",
    "                for row in cur.fetchall():\n",
    "                    #print(row)\n",
    "                    id_города, Город, Дата, Температура,id_погоды = row\n",
    "                    print('id_города:',id_города, 'Город:',Город, 'Дата:',Дата, 'Температура:',Температура,'id_погоды:',id_погоды)\n",
    "else:\n",
    "    print('В базе нет города с таким названием. Проверьте правильность транскрипции названия города на латынь и попробуйте еще раз.')"
   ]
  },
  {
   "cell_type": "code",
   "execution_count": null,
   "metadata": {},
   "outputs": [],
   "source": []
  },
  {
   "cell_type": "code",
   "execution_count": null,
   "metadata": {},
   "outputs": [],
   "source": []
  }
 ],
 "metadata": {
  "kernelspec": {
   "display_name": "Python 3",
   "language": "python",
   "name": "python3"
  },
  "language_info": {
   "codemirror_mode": {
    "name": "ipython",
    "version": 3
   },
   "file_extension": ".py",
   "mimetype": "text/x-python",
   "name": "python",
   "nbconvert_exporter": "python",
   "pygments_lexer": "ipython3",
   "version": "3.6.5"
  }
 },
 "nbformat": 4,
 "nbformat_minor": 2
}
